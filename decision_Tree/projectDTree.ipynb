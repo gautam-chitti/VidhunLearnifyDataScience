{
 "cells": [
  {
   "cell_type": "markdown",
   "metadata": {},
   "source": [
    "### BaseBall Hall Of Fame "
   ]
  },
  {
   "cell_type": "markdown",
   "metadata": {},
   "source": [
    "##### Source of dataset\n",
    "- https://github.com/RyanNolanData/YouTubeData/blob/main/500hits.csv"
   ]
  },
  {
   "cell_type": "markdown",
   "metadata": {},
   "source": [
    "#### Importing the Neccessary Libraries"
   ]
  },
  {
   "cell_type": "code",
   "execution_count": 3,
   "metadata": {},
   "outputs": [],
   "source": [
    "import pandas as pd\n",
    "import numpy as np\n",
    "import matplotlib.pyplot as plt\n",
    "import seaborn as sns\n",
    "\n",
    "df = pd.read_csv('500hits.csv', encoding='latin-1')"
   ]
  },
  {
   "cell_type": "code",
   "execution_count": 4,
   "metadata": {},
   "outputs": [
    {
     "data": {
      "text/html": [
       "<div>\n",
       "<style scoped>\n",
       "    .dataframe tbody tr th:only-of-type {\n",
       "        vertical-align: middle;\n",
       "    }\n",
       "\n",
       "    .dataframe tbody tr th {\n",
       "        vertical-align: top;\n",
       "    }\n",
       "\n",
       "    .dataframe thead th {\n",
       "        text-align: right;\n",
       "    }\n",
       "</style>\n",
       "<table border=\"1\" class=\"dataframe\">\n",
       "  <thead>\n",
       "    <tr style=\"text-align: right;\">\n",
       "      <th></th>\n",
       "      <th>PLAYER</th>\n",
       "      <th>YRS</th>\n",
       "      <th>G</th>\n",
       "      <th>AB</th>\n",
       "      <th>R</th>\n",
       "      <th>H</th>\n",
       "      <th>2B</th>\n",
       "      <th>3B</th>\n",
       "      <th>HR</th>\n",
       "      <th>RBI</th>\n",
       "      <th>BB</th>\n",
       "      <th>SO</th>\n",
       "      <th>SB</th>\n",
       "      <th>CS</th>\n",
       "      <th>BA</th>\n",
       "      <th>HOF</th>\n",
       "    </tr>\n",
       "  </thead>\n",
       "  <tbody>\n",
       "    <tr>\n",
       "      <th>0</th>\n",
       "      <td>Ty Cobb</td>\n",
       "      <td>24</td>\n",
       "      <td>3035</td>\n",
       "      <td>11434</td>\n",
       "      <td>2246</td>\n",
       "      <td>4189</td>\n",
       "      <td>724</td>\n",
       "      <td>295</td>\n",
       "      <td>117</td>\n",
       "      <td>726</td>\n",
       "      <td>1249</td>\n",
       "      <td>357</td>\n",
       "      <td>892</td>\n",
       "      <td>178</td>\n",
       "      <td>0.366</td>\n",
       "      <td>1</td>\n",
       "    </tr>\n",
       "    <tr>\n",
       "      <th>1</th>\n",
       "      <td>Stan Musial</td>\n",
       "      <td>22</td>\n",
       "      <td>3026</td>\n",
       "      <td>10972</td>\n",
       "      <td>1949</td>\n",
       "      <td>3630</td>\n",
       "      <td>725</td>\n",
       "      <td>177</td>\n",
       "      <td>475</td>\n",
       "      <td>1951</td>\n",
       "      <td>1599</td>\n",
       "      <td>696</td>\n",
       "      <td>78</td>\n",
       "      <td>31</td>\n",
       "      <td>0.331</td>\n",
       "      <td>1</td>\n",
       "    </tr>\n",
       "    <tr>\n",
       "      <th>2</th>\n",
       "      <td>Tris Speaker</td>\n",
       "      <td>22</td>\n",
       "      <td>2789</td>\n",
       "      <td>10195</td>\n",
       "      <td>1882</td>\n",
       "      <td>3514</td>\n",
       "      <td>792</td>\n",
       "      <td>222</td>\n",
       "      <td>117</td>\n",
       "      <td>724</td>\n",
       "      <td>1381</td>\n",
       "      <td>220</td>\n",
       "      <td>432</td>\n",
       "      <td>129</td>\n",
       "      <td>0.345</td>\n",
       "      <td>1</td>\n",
       "    </tr>\n",
       "    <tr>\n",
       "      <th>3</th>\n",
       "      <td>Derek Jeter</td>\n",
       "      <td>20</td>\n",
       "      <td>2747</td>\n",
       "      <td>11195</td>\n",
       "      <td>1923</td>\n",
       "      <td>3465</td>\n",
       "      <td>544</td>\n",
       "      <td>66</td>\n",
       "      <td>260</td>\n",
       "      <td>1311</td>\n",
       "      <td>1082</td>\n",
       "      <td>1840</td>\n",
       "      <td>358</td>\n",
       "      <td>97</td>\n",
       "      <td>0.310</td>\n",
       "      <td>1</td>\n",
       "    </tr>\n",
       "    <tr>\n",
       "      <th>4</th>\n",
       "      <td>Honus Wagner</td>\n",
       "      <td>21</td>\n",
       "      <td>2792</td>\n",
       "      <td>10430</td>\n",
       "      <td>1736</td>\n",
       "      <td>3430</td>\n",
       "      <td>640</td>\n",
       "      <td>252</td>\n",
       "      <td>101</td>\n",
       "      <td>0</td>\n",
       "      <td>963</td>\n",
       "      <td>327</td>\n",
       "      <td>722</td>\n",
       "      <td>15</td>\n",
       "      <td>0.329</td>\n",
       "      <td>1</td>\n",
       "    </tr>\n",
       "  </tbody>\n",
       "</table>\n",
       "</div>"
      ],
      "text/plain": [
       "         PLAYER  YRS     G     AB     R     H   2B   3B   HR   RBI    BB  \\\n",
       "0       Ty Cobb   24  3035  11434  2246  4189  724  295  117   726  1249   \n",
       "1   Stan Musial   22  3026  10972  1949  3630  725  177  475  1951  1599   \n",
       "2  Tris Speaker   22  2789  10195  1882  3514  792  222  117   724  1381   \n",
       "3   Derek Jeter   20  2747  11195  1923  3465  544   66  260  1311  1082   \n",
       "4  Honus Wagner   21  2792  10430  1736  3430  640  252  101     0   963   \n",
       "\n",
       "     SO   SB   CS     BA  HOF  \n",
       "0   357  892  178  0.366    1  \n",
       "1   696   78   31  0.331    1  \n",
       "2   220  432  129  0.345    1  \n",
       "3  1840  358   97  0.310    1  \n",
       "4   327  722   15  0.329    1  "
      ]
     },
     "execution_count": 4,
     "metadata": {},
     "output_type": "execute_result"
    }
   ],
   "source": [
    "df.head()"
   ]
  },
  {
   "cell_type": "code",
   "execution_count": 40,
   "metadata": {},
   "outputs": [],
   "source": [
    "correlation = df.corr()"
   ]
  },
  {
   "cell_type": "code",
   "execution_count": 45,
   "metadata": {},
   "outputs": [
    {
     "data": {
      "text/plain": [
       "<Axes: >"
      ]
     },
     "execution_count": 45,
     "metadata": {},
     "output_type": "execute_result"
    },
    {
     "data": {
      "image/png": "[encoded data removed]",
      "text/plain": [
       "<Figure size 640x480 with 2 Axes>"
      ]
     },
     "metadata": {},
     "output_type": "display_data"
    }
   ],
   "source": [
    "sns.heatmap(correlation)"
   ]
  },
  {
   "cell_type": "code",
   "execution_count": 19,
   "metadata": {},
   "outputs": [],
   "source": [
    "df.drop(['PLAYER', 'CS'], axis= 1, inplace=True)"
   ]
  },
  {
   "cell_type": "markdown",
   "metadata": {},
   "source": [
    "#### Spliting the Data into Independent and Dependent Variables"
   ]
  },
  {
   "cell_type": "code",
   "execution_count": 20,
   "metadata": {},
   "outputs": [],
   "source": [
    "X = df.drop(['HOF'] ,axis= 1)\n",
    "y = df['HOF']"
   ]
  },
  {
   "cell_type": "code",
   "execution_count": 23,
   "metadata": {},
   "outputs": [
    {
     "data": {
      "text/plain": [
       "1.0"
      ]
     },
     "execution_count": 23,
     "metadata": {},
     "output_type": "execute_result"
    }
   ],
   "source": [
    "from sklearn.preprocessing import StandardScaler\n",
    "SS = StandardScaler()\n",
    "X_scaled = SS.fit_transform(X)"
   ]
  },
  {
   "cell_type": "markdown",
   "metadata": {},
   "source": [
    "#### Train test Split"
   ]
  },
  {
   "cell_type": "code",
   "execution_count": 24,
   "metadata": {},
   "outputs": [],
   "source": [
    "from sklearn.model_selection import train_test_split\n",
    "X_train,X_test,y_train,y_test = train_test_split(X_scaled, y, test_size= 0.2, random_state= 42)"
   ]
  },
  {
   "cell_type": "markdown",
   "metadata": {},
   "source": [
    "#### Model Building"
   ]
  },
  {
   "cell_type": "code",
   "execution_count": 25,
   "metadata": {},
   "outputs": [],
   "source": [
    "from sklearn.tree import DecisionTreeClassifier"
   ]
  },
  {
   "cell_type": "code",
   "execution_count": 26,
   "metadata": {},
   "outputs": [],
   "source": [
    "dtc = DecisionTreeClassifier()\n",
    "dtc.fit(X_train,y_train)\n",
    "y_pred = dtc.predict(X_test)"
   ]
  },
  {
   "cell_type": "markdown",
   "metadata": {},
   "source": [
    "#### Model Evaluation\n"
   ]
  },
  {
   "cell_type": "code",
   "execution_count": 30,
   "metadata": {},
   "outputs": [
    {
     "name": "stdout",
     "output_type": "stream",
     "text": [
      "0.7956989247311828\n",
      "[[52 10]\n",
      " [ 9 22]]\n"
     ]
    }
   ],
   "source": [
    "from sklearn.metrics import confusion_matrix, accuracy_score,classification_report\n",
    "print(accuracy_score(y_test,y_pred))\n",
    "print(confusion_matrix(y_test,y_pred))"
   ]
  },
  {
   "cell_type": "code",
   "execution_count": 31,
   "metadata": {},
   "outputs": [
    {
     "name": "stdout",
     "output_type": "stream",
     "text": [
      "              precision    recall  f1-score   support\n",
      "\n",
      "           0       0.85      0.84      0.85        62\n",
      "           1       0.69      0.71      0.70        31\n",
      "\n",
      "    accuracy                           0.80        93\n",
      "   macro avg       0.77      0.77      0.77        93\n",
      "weighted avg       0.80      0.80      0.80        93\n",
      "\n"
     ]
    }
   ],
   "source": [
    "print(classification_report(y_test,y_pred))"
   ]
  },
  {
   "cell_type": "code",
   "execution_count": 32,
   "metadata": {},
   "outputs": [
    {
     "data": {
      "text/plain": [
       "array([0.02264997, 0.02193153, 0.03922742, 0.34088327, 0.08264963,\n",
       "       0.00976026, 0.03599095, 0.03273422, 0.0949626 , 0.05700948,\n",
       "       0.06184149, 0.03861651, 0.16174268])"
      ]
     },
     "execution_count": 32,
     "metadata": {},
     "output_type": "execute_result"
    }
   ],
   "source": [
    "dtc.feature_importances_"
   ]
  },
  {
   "cell_type": "code",
   "execution_count": 34,
   "metadata": {},
   "outputs": [
    {
     "data": {
      "text/html": [
       "<div>\n",
       "<style scoped>\n",
       "    .dataframe tbody tr th:only-of-type {\n",
       "        vertical-align: middle;\n",
       "    }\n",
       "\n",
       "    .dataframe tbody tr th {\n",
       "        vertical-align: top;\n",
       "    }\n",
       "\n",
       "    .dataframe thead th {\n",
       "        text-align: right;\n",
       "    }\n",
       "</style>\n",
       "<table border=\"1\" class=\"dataframe\">\n",
       "  <thead>\n",
       "    <tr style=\"text-align: right;\">\n",
       "      <th></th>\n",
       "      <th>0</th>\n",
       "    </tr>\n",
       "  </thead>\n",
       "  <tbody>\n",
       "    <tr>\n",
       "      <th>YRS</th>\n",
       "      <td>0.022650</td>\n",
       "    </tr>\n",
       "    <tr>\n",
       "      <th>G</th>\n",
       "      <td>0.021932</td>\n",
       "    </tr>\n",
       "    <tr>\n",
       "      <th>AB</th>\n",
       "      <td>0.039227</td>\n",
       "    </tr>\n",
       "    <tr>\n",
       "      <th>R</th>\n",
       "      <td>0.340883</td>\n",
       "    </tr>\n",
       "    <tr>\n",
       "      <th>H</th>\n",
       "      <td>0.082650</td>\n",
       "    </tr>\n",
       "    <tr>\n",
       "      <th>2B</th>\n",
       "      <td>0.009760</td>\n",
       "    </tr>\n",
       "    <tr>\n",
       "      <th>3B</th>\n",
       "      <td>0.035991</td>\n",
       "    </tr>\n",
       "    <tr>\n",
       "      <th>HR</th>\n",
       "      <td>0.032734</td>\n",
       "    </tr>\n",
       "    <tr>\n",
       "      <th>RBI</th>\n",
       "      <td>0.094963</td>\n",
       "    </tr>\n",
       "    <tr>\n",
       "      <th>BB</th>\n",
       "      <td>0.057009</td>\n",
       "    </tr>\n",
       "    <tr>\n",
       "      <th>SO</th>\n",
       "      <td>0.061841</td>\n",
       "    </tr>\n",
       "    <tr>\n",
       "      <th>SB</th>\n",
       "      <td>0.038617</td>\n",
       "    </tr>\n",
       "    <tr>\n",
       "      <th>BA</th>\n",
       "      <td>0.161743</td>\n",
       "    </tr>\n",
       "  </tbody>\n",
       "</table>\n",
       "</div>"
      ],
      "text/plain": [
       "            0\n",
       "YRS  0.022650\n",
       "G    0.021932\n",
       "AB   0.039227\n",
       "R    0.340883\n",
       "H    0.082650\n",
       "2B   0.009760\n",
       "3B   0.035991\n",
       "HR   0.032734\n",
       "RBI  0.094963\n",
       "BB   0.057009\n",
       "SO   0.061841\n",
       "SB   0.038617\n",
       "BA   0.161743"
      ]
     },
     "execution_count": 34,
     "metadata": {},
     "output_type": "execute_result"
    }
   ],
   "source": [
    "features = pd.DataFrame(dtc.feature_importances_, index = X.columns)\n",
    "features\n"
   ]
  }
 ],
 "metadata": {
  "kernelspec": {
   "display_name": "base",
   "language": "python",
   "name": "python3"
  },
  "language_info": {
   "codemirror_mode": {
    "name": "ipython",
    "version": 3
   },
   "file_extension": ".py",
   "mimetype": "text/x-python",
   "name": "python",
   "nbconvert_exporter": "python",
   "pygments_lexer": "ipython3",
   "version": "3.12.4"
  }
 },
 "nbformat": 4,
 "nbformat_minor": 2
}
